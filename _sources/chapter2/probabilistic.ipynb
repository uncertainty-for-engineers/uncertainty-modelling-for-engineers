{
 "cells": [
  {
   "cell_type": "markdown",
   "metadata": {},
   "source": [
    "### Probabilistic models of uncertainty\n",
    "\n",
    "#### Overview\n",
    "\n",
    "Probabilistic models of uncertainty require the definition of a\n",
    "probability space, which is given by $(\\Omega, \\mathcal{F}, P)$, where\n",
    "$\\Omega$ represents the space of all possible outcomes (the sample\n",
    "space), $\\mathcal{F}$ is a $\\sigma$ algebra representing the set of\n",
    "events, where each event is a set containing outcomes, and\n",
    "$P \\in [0, 1]$ represents probabilities which are assigned to the events\n",
    "in $\\mathcal{F}$ {cite}`jaynes2003probability`. Note that the probability\n",
    "assigned to the space of all outcomes is 1, $P(\\Omega) = 1$, and the\n",
    "probability of the empty set of outcomes is zero, $P(\\emptyset) = 0$. By\n",
    "definition, for an outcome $\\omega\\in \\Omega$ and its complementary\n",
    "outcome $\\omega^C$, their intersection is the empty set,\n",
    "$\\omega \\cap \\omega^C = \\emptyset$, and their union is equal to the\n",
    "entire sample space, $\\omega \\cup \\omega^C = \\Omega$. It follows that\n",
    "$P(\\omega) + P(\\omega^C) = 1$.\n",
    "\n",
    "The aim of defining the probability space is usually to obtain the\n",
    "random variable $X\\colon \\Omega \\to E$, which is a function from the set\n",
    "of outcomes $\\Omega$ to the measurable space $E$. The probability that\n",
    "$X$ takes a value falling inside in the set $S$ is given by\n",
    "\n",
    "\\begin{equation}\n",
    "\\operatorname {Pr} (X \\in S) = P(\\{\\omega\\in \\Omega|X(\\omega) \\in S\\}).\n",
    "\\end{equation}\n",
    "When the measurable space is the real line, $E = \\mathbb{R}$, the\n",
    "cumulative distribution function (CDF) can be obtained by calculating\n",
    "the probability of the event that that $X$ is less than a particular\n",
    "value $x$, $\\{X<x\\}$. Therefore the cumulative distribution function is\n",
    "given by \n",
    "\n",
    "$$F_X(x) = P(X \\le x).$$ \n",
    "\n",
    "The well known probability\n",
    "distribution function (PDF) of the variable, $p_X(x)$, is the gradient\n",
    "of the cumulative distribution function,\n",
    "$p_X(x) = \\frac{d F_X(x)}{d x}$. The probability density represents the\n",
    "relative likelihood of a random variable taking a particular value. Note\n",
    "that, as follows from our definition, the cumulative distribution must\n",
    "increase monotonically with $x$, and as such the probability density\n",
    "function is always positive. In addition, the integral of the\n",
    "probability density function over the whole real line will always be\n",
    "equal to 1, since $\\lim_{x \\to \\infty}F_X(x) = 1$ and\n",
    "$\\lim_{x \\to -\\infty}F_X(x) = 0$ {cite}`ross2014first`.\n",
    "\n",
    "Note that important properties of the random variable are summarised by\n",
    "the mean of the random variable,\n",
    "\n",
    "$$\\mu_X = \\operatorname{\\mathbb{E}}[X] = \\int_\\mathbb{R} x p_X(x) dx,$$\n",
    "\n",
    "where $\\operatorname{\\mathbb{E}}$ is the expectation operator, and the\n",
    "variance\n",
    "\n",
    "$$\\operatorname{Var}(X) = \\operatorname{\\mathbb{E}}[(X - \\mu_X)^2] = \\int_\\mathbb{R} (x-\\mu_X)^2 p_X(x) dx,$$\n",
    "\n",
    "which is sometimes quoted in terms of the standard deviation,\n",
    "$\\sigma_X = \\sqrt{\\operatorname{Var}(x) }$ {cite}`ross2014first`. The\n",
    "standard deviation is sometimes expressed as the coefficient of\n",
    "variation of a varible ($CoV$), which is defined as\n",
    "$\\text{CoV} = \\frac{\\mu_X}{\\sigma_X}$.\n",
    "\n",
    "In practical calculations, one is not usually concerned with the\n",
    "probability space $(\\Omega, \\mathcal{F}, P)$, because defining either\n",
    "the probability distribution function or cumulative distribution\n",
    "function by assigning probability density to the possible values for $X$\n",
    "is usually sufficient for calculations to proceed. The measure theoretic\n",
    "framework for probability theory which we have summarised here was\n",
    "introduced by {cite}`andrei1950kolmogorov`. An equivalent theory was derived by\n",
    "extending Boolean logic to assign quantitative values of truthfulness to\n",
    "statements, termed plausibilities, in the seminal work of\n",
    "{cite}`jaynes2003probability`.\n",
    "\n",
    "The probability of an event may be considered in terms of probabilities\n",
    "of sub-events, for example if $A=A_1\\cap A_2$, where $\\cap$ represents\n",
    "the logical and operation, then $P(A) = P(A_1 \\cap A_2)$. This can be\n",
    "evaluated as $P(A_1\\cap A_2) = P(A_1|A_2) P(A_2)$, by definition.\n",
    "$P(A_1|A_2)$ is the probability that $A_1$ is true, given that $A_2$ is\n",
    "true. The dependence between $A_1$ and $A_2$ is encoded in $P(A_1|A_2)$;\n",
    "$P(A_1|A_2)=P(A_1)$ if $A_1$ and $A_2$ are independent events, so that\n",
    "$P(A)=P(A_1)P(A_2)$. If the dependence is not known then bounds for\n",
    "$P(A)$ can be established, and this is discussed in\n",
    "{cite}`sadeghi2020analytic`. Similar bounds are available for the logical\n",
    "or operation, $\\cup$.\n",
    "\n",
    "One may model dependencies between variables by considering the joint\n",
    "distribution over more than one variable, e.g.\n",
    "$p(x_1, x_2) = P(X_1 = x_1 \\cap X_2 = x_2)$, where $X_1$ and $X_2$ are\n",
    "two random variables. Traditionally, a generative model is defined as a\n",
    "joint probability distribution. One may summarise the properties of a\n",
    "joint distribution using the co-variance between two variables\n",
    "\n",
    "$$\\operatorname{cov}(X_1, X_2) = \\operatorname{\\mathbb{E}}[(X_1 - \\mu_{X_1})(X_2 - \\mu_{X_2})] = \\int_\\mathbb{R} \\int_\\mathbb{R} (x_1-\\mu_{X_1})(x_2-\\mu_{X_2}) p(x_1, x_2) d x_1 d x_2.$$\n",
    "\n",
    "Taking the co-variance of a variable with itself yields the variable's\n",
    "variance, $\\operatorname{cov}(X_1, X_1) = \\operatorname{Var}(X_1)$\n",
    "{cite}`ross2014first`.\n"
   ]
  },
  {
   "cell_type": "markdown",
   "metadata": {},
   "source": [
    "#### Worked example : elementary probability theory\n",
    "\n",
    "The amount of rainfall in mm on a particular day is given by the normal random variable $p(x) = \\mathcal{N}(\\mu=10,\\sigma=1)$\n",
    "\n",
    "What is the probability of less than 8mm of rainfall?\n",
    "\n",
    "The probability of less than a certain amount of rainfall is obtained by integrating the probability density function up to that amount. This is equivalent to the cumulative density function at that value.\n",
    "\n",
    "$P(\\text{rainfall}<8mm) = \\int_{-\\infty}^{8mm} p(x) dx = F(x=8mm)$\n",
    "\n",
    "In the following code snippet we evaluate the CDF of the random variable using `scipy.stats`.\n",
    "Then we plot the PDF and CDF of the random variable using `matplotlib` and show the relevant integrated area of the random variable in red."
   ]
  },
  {
   "cell_type": "code",
   "execution_count": 1,
   "metadata": {},
   "outputs": [
    {
     "name": "stdout",
     "output_type": "stream",
     "text": [
      "0.022750131948179195\n"
     ]
    },
    {
     "data": {
      "image/png": "[encoded data removed]",
      "text/plain": [
       "<Figure size 432x288 with 1 Axes>"
      ]
     },
     "metadata": {
      "needs_background": "light"
     },
     "output_type": "display_data"
    },
    {
     "data": {
      "image/png": "[encoded data removed]",
      "text/plain": [
       "<Figure size 432x288 with 1 Axes>"
      ]
     },
     "metadata": {
      "needs_background": "light"
     },
     "output_type": "display_data"
    }
   ],
   "source": [
    "import matplotlib.pyplot as plt\n",
    "import scipy.stats\n",
    "import numpy as np\n",
    "\n",
    "print(scipy.stats.norm.cdf(8, loc=10, scale=1))\n",
    "\n",
    "\n",
    "plot_x_range = np.linspace(-10, 20, 100)\n",
    "plot_x_range_integrate = np.linspace(-10, 8, 100)\n",
    "plt.plot(plot_x_range, scipy.stats.norm.pdf(plot_x_range, loc=10, scale=1))\n",
    "plt.fill_between(\n",
    "    plot_x_range_integrate,\n",
    "    0,\n",
    "    scipy.stats.norm.pdf(plot_x_range_integrate, loc=10, scale=1),\n",
    "    facecolor=\"red\"\n",
    ")\n",
    "plt.xlabel(\"x /mm\")\n",
    "plt.ylabel(\"p(x)\")\n",
    "plt.show()\n",
    "\n",
    "plot_x_range = np.linspace(-10, 20, 100)\n",
    "plt.plot(plot_x_range, scipy.stats.norm.cdf(plot_x_range, loc=10, scale=1))\n",
    "plt.scatter(8, scipy.stats.norm.cdf(8, loc=10, scale=1), color='red')\n",
    "plt.xlabel(\"x /mm\")\n",
    "plt.ylabel(\"F(x)\")\n",
    "plt.show()"
   ]
  },
  {
   "cell_type": "markdown",
   "metadata": {},
   "source": [
    "Do you notice anything strange about this model? The probability of a negative amount of rainfall is small, but non-zero. Can you think of a way to change the support of the probability distribution and thereby improve the model?"
   ]
  },
  {
   "cell_type": "markdown",
   "metadata": {},
   "source": [
    "#### Worked example : elementary probability theory\n",
    "\n",
    "Consider two events: a patient having a disease $A_P$, and the patient testing positive for the disease $A_T$. The two events are associated with the probabilities $P(A_P)=0.001$ for the patient having the disease, $P(A_T)=0.1$ for a random patient testing positive and $P(A_T|A_P)=x$ for the patient testing positive if they have the disease. Plot the probability that a patient has the disease if they test posititive, $P(A_P|A_T)$, as a function of $x$:\n",
    "\n",
    "We know $P(A_P|A_T)=\\frac{P(A_P\\cap A_T)}{P(A_T)} = \\frac{P(A_T|A_P) P(A_P)}{P(A_T)}$"
   ]
  },
  {
   "cell_type": "code",
   "execution_count": 1,
   "metadata": {},
   "outputs": [
    {
     "data": {
      "image/png": "[encoded data removed]",
      "text/plain": [
       "<Figure size 432x288 with 1 Axes>"
      ]
     },
     "metadata": {
      "needs_background": "light"
     },
     "output_type": "display_data"
    }
   ],
   "source": [
    "prob_infected = 0.001\n",
    "prob_positive_test = 0.1\n",
    "\n",
    "\n",
    "def prob_true_positive(x): return x * prob_infected / prob_positive_test\n",
    "\n",
    "\n",
    "plot_x_range = np.linspace(0, 1, 10)\n",
    "plt.plot(plot_x_range, prob_true_positive(plot_x_range))\n",
    "plt.xlabel(\"$P(A_T|A_P)$\")\n",
    "plt.ylabel(\"$P(A_P|A_T)$\")\n",
    "plt.show()"
   ]
  },
  {
   "cell_type": "markdown",
   "metadata": {},
   "source": [
    "So even with a perfect test, $P(A_T|A_P)=1$, the probability of having the disease after testing positive is only 0.01. This makes sense because very few people have the disease but the probability of the test being positive is much higher, i.e. 0.1 >> 0.001\n",
    "\n",
    "This is clear when we plot the number of false positives, $P({A_P}^C|A_T) = 1-P({A_P}|A_T)$"
   ]
  },
  {
   "cell_type": "code",
   "execution_count": 2,
   "metadata": {},
   "outputs": [
    {
     "data": {
      "image/png": "[encoded data removed]",
      "text/plain": [
       "<Figure size 432x288 with 1 Axes>"
      ]
     },
     "metadata": {
      "needs_background": "light"
     },
     "output_type": "display_data"
    }
   ],
   "source": [
    "plt.plot(plot_x_range, 1 - prob_true_positive(plot_x_range))\n",
    "plt.xlabel(\"$P(A_T|A_P)$\")\n",
    "plt.ylabel(\"$P({A_P}^C|A_T)$\")\n",
    "plt.show()"
   ]
  },
  {
   "cell_type": "markdown",
   "metadata": {},
   "source": [
    "(sec:probabilstic_computation)=\n",
    "#### Computation with Probabilistic Models \n",
    "\n",
    "The expectation (mean value) of a general function $g(x)$ with respect\n",
    "to an uncertain variable, which is modelled with a probability\n",
    "distribution $p(x)$, can be evaluated as\n",
    "\n",
    "```{math}\n",
    ":label: eqn_expectation\n",
    "\\operatorname{\\mathbb{E}}[g(X)] = \\int_{\\mathbb{R}^N} g(x) p(x) dx, \n",
    "```\n",
    "\n",
    "where we now allow $x$ to have multiple components.\n",
    "\n",
    "In the most general case, one can draw realisations, known as samples,\n",
    "from the random variable by selecting values for the variable in the\n",
    "ratio of their assigned probability densities. Given $M$ samples drawn\n",
    "from $p(x)$, $\\{ x_{(1)}, \\ldots, x_{(M)} \\}$,\n",
    "$\\operatorname{\\mathbb{E}}[g(X)]$ can be approximated by the Monte Carlo\n",
    "estimator\n",
    "\n",
    "```{math}\n",
    ":label: eqn_monte_carlo_estimator\n",
    "\\operatorname{\\mathbb{E}}[g(X)] \\approx I = \\frac{1}{M} \\sum_{i=1}^M g(x_{(i)}). \n",
    "```\n",
    "The error of the Monte Carlo\n",
    "estimator is given by\n",
    "\n",
    "$$\\frac{\\sigma_g}{\\sqrt{M}} = \\frac{\\sqrt{\\sum_{i=1}^M (g(x_{(i)}) - I)^2}}{\\sqrt{M (M-1)}},$$\n",
    "\n",
    "where $\\sigma_g^2$ is the unbiased sample estimator of the variance of $g$\n",
    "{cite}`rubinstein2016simulation`. Clearly the error in the estimator\n",
    "decreases with $\\frac{1}{\\sqrt{M}}$, so collecting more samples will\n",
    "slowly decrease the error in the estimator {cite}`press1992numeric`. However\n",
    "in many circumstances collecting more samples of $M$ is not feasible,\n",
    "and $\\sigma_g$ may be large.\n",
    "\n",
    "Therefore, in practice, more efficient methods are used to compute the\n",
    "expectation. In {ref}`ch:reliability_analysis` efficient methods for solving a\n",
    "specific form of this integral from engineering reliability analysis\n",
    "will be explained. However, it is useful to note there are some more\n",
    "general efficient approaches for computing an approximation of the\n",
    "expectation in\n",
    "{eq}`eqn_expectation`.\n",
    "\n",
    "For example, provided that $g(x)$ can be differentiated, one can attempt\n",
    "to approximate the expectation in\n",
    "{eq}`eqn_expectation` with a Taylor expansion\n",
    "\n",
    "$$\\operatorname{\\mathbb{E}}[g(X)] = \\operatorname{\\mathbb{E}}[ g (\\mu_X + (X - \\mu_X ) ) ]  \\approx \\operatorname{\\mathbb{E}} [g(\\mu_X) + g'(\\mu_X) ( X-\\mu_X ) + \\frac{1}{2}g''(\\mu_X) ( X - \\mu_X )^2 \\ldots ],$$\n",
    "\n",
    "where $\\mu_X$ is the mean of random variable $X$. When $g(x)$ is linear,\n",
    "the the expectation in\n",
    "{eq}`eqn_expectation` can therefore be calculated trivially,\n",
    "since $X - \\mu_X = 0$ and $g''(x) = 0$. If $g(x)$ is non-linear then\n",
    "using the approximation\n",
    "$\\operatorname{\\mathbb{E}}[g(X)] \\approx \\operatorname{\\mathbb{E}} [g(\\mu_X)]$\n",
    "is correct only to first order {cite}`wan2000unscented`. At the expense of\n",
    "generality, the expectation is evaluated using only two evaluations of\n",
    "$g(x)$, which is a clear advantage when $g(x)$ is expensive to evaluate,\n",
    "or the computation of $\\operatorname{\\mathbb{E}}[g(X)]$ is required\n",
    "quickly. This idea is applied to engineering in the Kalman Filter and\n",
    "Extended Kalman Filter {cite}`wan2000unscented`.\n",
    "\n",
    "{cite}`uhlmann1995dynamic` proposed a more accurate approximate method for\n",
    "approximating the expectation in\n",
    "{eq}`eqn_expectation` which requires few evaluations of $g(x)$,\n",
    "and does not require $g(x)$ to be differentiated. The Unscented\n",
    "Transformation, sometimes referred to as deterministic sampling,\n",
    "requires the computation of so called sigma points which are specially\n",
    "chosen represent the covariance of the input distributions. It is then\n",
    "only required to compute $g(x)$ for these sigma points, after which a\n",
    "weighted average is used to obtain the approximation of the expectation\n",
    "in {eq}`eqn_expectation`. {cite}`wan2000unscented` demonstrate that the\n",
    "Unscented Transformation is accurate to at least second order, but\n",
    "potentially to third or forth order in some cases. The number of sigma\n",
    "points required, and hence the cost of the computation, depends linearly\n",
    "on the dimensionality of $x$. Although this approach is more generally\n",
    "applicable and accurate than the Taylor Series method, the Unscented\n",
    "Transformation is limited to use cases where $x$ has reasonably low\n",
    "dimensionality, because otherwise too many evaluations of $g(x)$ are\n",
    "required. The method has been applied to engineering in the Unscented\n",
    "filter {cite}`wan2000unscented` and uncertainty quantification in the nuclear\n",
    "industry by {cite}`zhangpreliminary` and {cite}`perretg`.\n",
    "\n",
    "In order to avoid these approximations, techniques can be used to obtain\n",
    "more accurate approximations of $g(x)$ in specific cases (metamodels),\n",
    "or alternatively efficient sampling strategies can be used. This is\n",
    "discussed in {ref}`ch:reliability_analysis` for application to reliability\n",
    "analysis."
   ]
  },
  {
   "cell_type": "markdown",
   "metadata": {},
   "source": [
    "(sec:umbrella_example_1)=\n",
    "#### Worked example : Computation with a probabilistic model\n",
    "\n",
    "Again, the amount of rainfall in mm on a particular day is given by the normal random variable $p(x) = \\mathcal{N}(\\mu=10,\\sigma=1)$.\n",
    "It is known that the number of umbrellas sold in London on a particular day is given by $g(x) = 1000 x^2$.\n",
    "\n",
    "Estimate the number of umbrellas sold in London given our uncertain model of rainfall.\n",
    "\n",
    "$$\\text{Umbrellas sold} = \\int_{-\\infty}^{\\infty} p(x) 1000 x^2 dx$$\n",
    "\n",
    "Analytically evaluating this integral in a popular computer algebra system yields $\\text{Umbrellas sold}=101000$."
   ]
  },
  {
   "cell_type": "code",
   "execution_count": 4,
   "metadata": {},
   "outputs": [
    {
     "name": "stdout",
     "output_type": "stream",
     "text": [
      "We expect that 101287.30984936524 umbrellas were sold\n",
      "The error of this Monte Carlo estimator is 2063.720321793903\n"
     ]
    }
   ],
   "source": [
    "# First try Monte Carlo integration\n",
    "n_samples = 100\n",
    "samples_x = scipy.stats.norm(loc=10, scale=1).rvs(n_samples)\n",
    "\n",
    "\n",
    "def g(x): return 1000 * x ** 2\n",
    "\n",
    "\n",
    "umbrellas_sold = np.mean(g(samples_x))\n",
    "\n",
    "print(\"We expect that {} umbrellas were sold\".format(umbrellas_sold))\n",
    "\n",
    "error = np.std(g(samples_x)) / np.sqrt(n_samples-1)\n",
    "\n",
    "print(\"The error of this Monte Carlo estimator is {}\".format(error))"
   ]
  },
  {
   "cell_type": "markdown",
   "metadata": {},
   "source": [
    "Using `{}` in a string with `.format()` is a compact and readable method of inserting a quantity into a print statement. The scipy stats library is used for the random variables, and the expectation is taken using `np.mean`.\n",
    "\n",
    "Note that we divide the standard deviation from numpy by $M-1$, since the output of `np.std` is the standard deviation and _not_ the unbiased estimator for sample standard deviation.\n",
    "\n",
    "Most importantly the Monte Carlo simulation agrees with the analytic result!\n",
    "\n",
    "We can plot how the result changes with an increasing number of samples."
   ]
  },
  {
   "cell_type": "code",
   "execution_count": 5,
   "metadata": {},
   "outputs": [
    {
     "data": {
      "image/png": "[encoded data removed]",
      "text/plain": [
       "<Figure size 432x288 with 1 Axes>"
      ]
     },
     "metadata": {
      "needs_background": "light"
     },
     "output_type": "display_data"
    }
   ],
   "source": [
    "def monte_carlo_simulation(n_samples):\n",
    "    \"\"\"\n",
    "    Monte Carlo Simulation for number of umbrellas sold in London on a\n",
    "      particular day\n",
    "        Args:\n",
    "            n_samples (int): Number of samples to be made in Monte Carlo\n",
    "              simulation\n",
    "        Returns:\n",
    "            Number of umbrellas sold (float): The expected number of umbrellas\n",
    "              sold\n",
    "            error (float): The error in the estimated number of umbrellas sold\n",
    "    \"\"\"\n",
    "    samples_x = scipy.stats.norm(loc=10, scale=1).rvs(n_samples)\n",
    "    def g(x): return 1000 * x ** 2\n",
    "\n",
    "    umbrellas_sold = np.mean(g(samples_x))\n",
    "\n",
    "    error = np.std(g(samples_x)) / np.sqrt(n_samples-1)\n",
    "    return umbrellas_sold, error\n",
    "\n",
    "\n",
    "number_of_samples = [10, 20, 30, 40, 50, 100, 200, 1000, 10000, 100000]\n",
    "simulation_results = [monte_carlo_simulation(n) for n in number_of_samples]\n",
    "\n",
    "plt.plot(number_of_samples, list(zip(*simulation_results))[0])\n",
    "plt.plot([0, 100000], [101000]*2)\n",
    "plt.errorbar(number_of_samples, *zip(*simulation_results))\n",
    "plt.xlabel(\"Number of samples\")\n",
    "plt.ylabel(\"Umbrellas sold\")\n",
    "plt.xscale(\"log\")\n",
    "plt.show()"
   ]
  },
  {
   "cell_type": "markdown",
   "metadata": {},
   "source": [
    "Notice that all simulation results are within 3 standard deviations of the true value.\n",
    "\n",
    "The true value from the analytic calculation is shown with an orange line. The simulation results and error bars are shown in green.\n",
    "\n",
    "Note that we used several useful features of python in the above code.\n",
    "\n",
    "We use a docstring below the function definition to explain what the purpose of the function is and the expected inputs and outputs.\n",
    "\n",
    "Note that the defined function returns two outputs - these are treated like a `tuple` object when inserted into the list. `zip(*simulation_results)` converts the list of tuples into a tuple of lists.\n",
    "\n",
    "As in the previous example, the sampling is vectorised (i.e. no loop is used in generating the samples for each simulation) to reduce the time required for computation.\n",
    "\n",
    "A _list comprehension_ is used to tidily obtain the results from the Monte Carlo simulation and put these into a list.\n",
    "\n",
    "To reduce the number of samples required we now evaluate the integral using a Taylor Series.\n"
   ]
  },
  {
   "cell_type": "code",
   "execution_count": 6,
   "metadata": {},
   "outputs": [
    {
     "name": "stdout",
     "output_type": "stream",
     "text": [
      "Taylor series - umbrellas sold: 101000.0\n"
     ]
    }
   ],
   "source": [
    "def g(x): return 1000 * x ** 2\n",
    "\n",
    "\n",
    "def g_dash_dash(x): return 1000 * 2\n",
    "\n",
    "\n",
    "loc = 10\n",
    "scale = 1\n",
    "\n",
    "zero_order_taylor_series = g(loc)\n",
    "# first order contribution is zero!\n",
    "second_order_term = g_dash_dash(loc) * 0.5 * scale\n",
    "taylor_series_umbrellas = zero_order_taylor_series + second_order_term\n",
    "\n",
    "print(\"Taylor series - umbrellas sold: {}\".format(taylor_series_umbrellas))"
   ]
  },
  {
   "cell_type": "markdown",
   "metadata": {},
   "source": [
    "The correct result is obtained exactly! This is because the third and higher derivatives of $g(x)$ are zero!"
   ]
  }
 ],
 "metadata": {
  "kernelspec": {
   "display_name": "Python 3",
   "language": "python",
   "name": "python3"
  },
  "language_info": {
   "codemirror_mode": {
    "name": "ipython",
    "version": 3
   },
   "file_extension": ".py",
   "mimetype": "text/x-python",
   "name": "python",
   "nbconvert_exporter": "python",
   "pygments_lexer": "ipython3",
   "version": "3.8.3"
  }
 },
 "nbformat": 4,
 "nbformat_minor": 4
}