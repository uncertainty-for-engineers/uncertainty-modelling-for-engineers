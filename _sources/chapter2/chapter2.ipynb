{
 "cells": [
  {
   "cell_type": "markdown",
   "metadata": {
    "collapsed": true
   },
   "source": [
    "(ch:uncertainty_models)=\n",
    "Models of Uncertainty\n",
    "=====================\n",
    "\n",
    "Overview of uncertainty models\n",
    "------------------------------\n",
    "\n",
    "The purpose of uncertainty models is to allow analysts to move beyond\n",
    "computation with point values of variables. By using an uncertainty\n",
    "model one can describe the variability or lack of knowledge in a\n",
    "parameter, and consider how this affects the result of a calculation. In\n",
    "this chapter, we describe the process of quantifying the uncertainty in\n",
    "a set of variables independently of the values of other variables, which\n",
    "is known as *generative modelling* (the alternative case, *regression\n",
    "modelling* is described in the subsequent chapter).\n",
    "\n",
    "As a concrete example, consider predicting the weather at a particular\n",
    "location, on a particular day. A model to predict the weather on Tuesday\n",
    "independent of other information would be considered a generative model.\n",
    "If the model predicted the weather on Tuesday, given the weather\n",
    "conditions on Monday, which were already known, this would be termed a\n",
    "regression model.\n",
    "\n",
    "So far we have avoided discussing any type of uncertainty model in\n",
    "particular, since many different models of uncertainty exist. The\n",
    "particular model chosen for an application may be selected based on a\n",
    "number of factors, including its ability to be created from the type of\n",
    "data available, ease of computation, and the desired properties of\n",
    "predictions made by the model.\n",
    "\n",
    "Models which can be created from imprecise data, i.e. interval data,\n",
    "often result in less informative predictions than models which cannot.\n",
    "However, uninformative predictions are not necessarily undesirable, if\n",
    "the predictions are a true representation of the state of knowledge of\n",
    "the analyst or engineer. Hence the chosen uncertainty model should\n",
    "truthfully represent the level of uncertainty of the analyst, given the\n",
    "available information.\n",
    "\n",
    "It should also be noted that, contrary to common opinion, particular\n",
    "classes of uncertainty model do not necessarily restrict the type of\n",
    "uncertainty which can be represented. In some cases, a probabilistic\n",
    "model may allow epistemic uncertainty to be communicated\n",
    "{cite}`jaynes2003probability`, and in principle one could use an interval\n",
    "model to represent aleatory uncertainty --- though usually probabilistic\n",
    "models are more useful representations of aleatory uncertainty.\n",
    "\n",
    "The ease of calculation should also be considered when the class of\n",
    "uncertainty model to be used is chosen. If the speed of calculation is\n",
    "very important, because a decision based on the predictions of the model\n",
    "must be made with severe time limitations, then it could actually be\n",
    "*more unsafe* to choose an uncertainty model which is *more accurate*\n",
    "but reduces the speed with which predictions can be made. For example,\n",
    "this could be the case in an online safety system in a power plant\n",
    "{cite}`tolo2019robust`. However, in most situations the speed with which\n",
    "predictions must be made is more flexible, and therefore it is usually\n",
    "preferable to choose an uncertainty model which is accurate, and then\n",
    "use approximations or efficient computational methods to compute the\n",
    "desired prediction.\n",
    "\n",
    "With this in mind, in this section several uncertainty models will be\n",
    "presented, including probabilistic models, non-probabilistic models, and\n",
    "imprecise probabilistic models. The type of information which can be\n",
    "used to create the models will be discussed, and their amenabilities to\n",
    "calculation will be compared."
   ]
  },
  {
   "cell_type": "code",
   "execution_count": null,
   "metadata": {},
   "outputs": [],
   "source": []
  }
 ],
 "metadata": {
  "kernelspec": {
   "display_name": "Python 3",
   "language": "python",
   "name": "python3"
  },
  "language_info": {
   "codemirror_mode": {
    "name": "ipython",
    "version": 3
   },
   "file_extension": ".py",
   "mimetype": "text/x-python",
   "name": "python",
   "nbconvert_exporter": "python",
   "pygments_lexer": "ipython3",
   "version": "3.8.3"
  }
 },
 "nbformat": 4,
 "nbformat_minor": 1
}
