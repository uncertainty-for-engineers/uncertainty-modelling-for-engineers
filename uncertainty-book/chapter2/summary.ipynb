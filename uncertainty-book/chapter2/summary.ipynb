{
 "cells": [
  {
   "cell_type": "markdown",
   "metadata": {},
   "source": [
    "Chapter summary\n",
    "---------------\n",
    "\n",
    "This chapter presents a review of uncertainty models which can be used\n",
    "to describe unknown parameters in a computational model, in addition to\n",
    "describing how the models can be created in practice, from data or\n",
    "otherwise, and how computation can be performed with these models. In\n",
    "particular, we discussed probabilistic models, which are used for\n",
    "conventional uncertainty quantification, and non-probabilistic models,\n",
    "which are used in cases where only limited or imprecise data may be\n",
    "available, and prior knowledge may be difficult to obtain in the form of\n",
    "a probabilistic prior. In this chapter, all considered uncertainty\n",
    "models did not depend upon the behaviour of other variables --- their\n",
    "uncertainty was constant or homoscedastic. In many cases, it may be\n",
    "desirable to model how the uncertainty in a variable changes with\n",
    "respect to another variable. This is typical, for example, when we wish\n",
    "to consider how the output of a computer code changes with respect to\n",
    "its inputs. Therefore, the following chapter describes so called\n",
    "regression models, where modelling this dependency is possible.\n",
    "\n"
   ]
  }
 ],
 "metadata": {
  "kernelspec": {
   "display_name": "Python 3",
   "language": "python",
   "name": "python3"
  },
  "language_info": {
   "codemirror_mode": {
    "name": "ipython",
    "version": 3
   },
   "file_extension": ".py",
   "mimetype": "text/x-python",
   "name": "python",
   "nbconvert_exporter": "python",
   "pygments_lexer": "ipython3",
   "version": "3.8.3"
  }
 },
 "nbformat": 4,
 "nbformat_minor": 4
}
