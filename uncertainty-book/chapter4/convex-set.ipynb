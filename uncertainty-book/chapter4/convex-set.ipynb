{
 "cells": [
  {
   "cell_type": "markdown",
   "metadata": {},
   "source": [
    "## Convex set models for reliability\n",
    "\n",
    "### Problem definition\n",
    "\n",
    "In contrast to probabilistic models of uncertainty, where the statistics\n",
    "of $g(\\boldsymbol{x})$ --- and hence the failure probability --- can be\n",
    "determined, in convex uncertainty models the focus is on the best and\n",
    "worst possible values for $g(\\boldsymbol{x})$. This is good, because\n",
    "underestimation of the worst case due to inaccurate sampling in the\n",
    "tails of probability distributions can be avoided. In addition, the\n",
    "analysis can include extreme lack of knowledge of the possible loads the\n",
    "system will be subjected to. However, sometimes the analysis may be\n",
    "overly conservative if the worst case is extremely unlikely to occur.\n",
    "Convex set models of uncertainty also offer a framework to analyse a\n",
    "possible set of future designs, before the design for a system has been\n",
    "finalised.\n",
    "\n",
    "For system parameters $\\boldsymbol{x} \\in X$, the structural response is\n",
    "given by the interval\n",
    "$[\\min_{\\boldsymbol{x} \\in X}{g(\\boldsymbol{x})}, \\max_{\\boldsymbol{x} \\in X}g(\\boldsymbol{x})]$,\n",
    "which can be determined by the methods discussed in\n",
    "{ref}`sec:set-based` {cite}`elishakoff2010optimization`. For a system\n",
    "with response ${g}_\\text{load}(x)$ which must not exceed\n",
    "$g_\\text{threshold}$, {cite}`ben1994convex` proposes a non-probabilistic figure\n",
    "of merit,\n",
    "$R_\\text{non-probabilistic} = 1 - \\frac{\\overline{g}_\\text{load}(\\boldsymbol{x})}{g_\\text{threshold}},$\n",
    "where\n",
    "$\\overline{g}_\\text{load}(x)=\\max_{\\boldsymbol{x} \\in X}g_\\text{load}(\\boldsymbol{x})$.\n",
    "$R_\\text{non-probabilistic}$ describes how close the system is to\n",
    "failure, but it cannot be interpreted as a probability or rate of\n",
    "failure.\n"
   ]
  },
  {
   "cell_type": "code",
   "execution_count": null,
   "metadata": {},
   "outputs": [],
   "source": []
  }
 ],
 "metadata": {
  "kernelspec": {
   "display_name": "Python 3",
   "language": "python",
   "name": "python3"
  },
  "language_info": {
   "codemirror_mode": {
    "name": "ipython",
    "version": 3
   },
   "file_extension": ".py",
   "mimetype": "text/x-python",
   "name": "python",
   "nbconvert_exporter": "python",
   "pygments_lexer": "ipython3",
   "version": "3.8.3"
  }
 },
 "nbformat": 4,
 "nbformat_minor": 4
}